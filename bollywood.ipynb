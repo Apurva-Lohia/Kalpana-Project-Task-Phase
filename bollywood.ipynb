{
 "cells": [
  {
   "cell_type": "code",
   "execution_count": 87,
   "id": "9fc02056",
   "metadata": {},
   "outputs": [],
   "source": [
    "import pandas as pd\n",
    "import seaborn as sns\n",
    "import matplotlib.pyplot as plt\n"
   ]
  },
  {
   "cell_type": "code",
   "execution_count": 36,
   "id": "33da5cbe",
   "metadata": {
    "scrolled": true
   },
   "outputs": [
    {
     "name": "stdout",
     "output_type": "stream",
     "text": [
      "    No      RelDate                         MovieName  ReleaseTime  \\\n",
      "0    1  Apr-18-2014                          2 States            3   \n",
      "1    2   Jan-4-2013                      Table No. 21            4   \n",
      "2    3  Jul-18-2014                Amit Sahni Ki List            4   \n",
      "3    4   Jan-4-2013                  Rajdhani Express            4   \n",
      "4    5   Jul-4-2014                      Bobby Jasoos           44   \n",
      "5    6  May-30-2014                        Citylights            2   \n",
      "6    7  Sep-19-2014                     Daawat-E-Ishq            4   \n",
      "7    8  Jan-11-2013        Matru Ki Bijlee Ka Mandola            4   \n",
      "8    9  Jan-10-2014                      Dedh Ishqiya            3   \n",
      "9   10  Jan-11-2013                         Gangoobai            4   \n",
      "10  11  Mar-28-2014                       Dishkiyaoon            4   \n",
      "11  12  Jan-18-2013                            Inkaar            4   \n",
      "12  13  Jan-27-2014                        Ek Villain            2   \n",
      "13  14  Jan-18-2013                     Mumbai Mirror            4   \n",
      "14  15   Aug-8-2014                     Entertainment            4   \n",
      "15  16  Jan-18-2013                           Bandook            4   \n",
      "16  17  Jan-25-2013                            Race 2            3   \n",
      "17  18   Jul-6-2014                        Filmistaan            2   \n",
      "18  19  Sep-12-2014                     Finding Fanny            4   \n",
      "19  20  Jun-13-2014                             Fugly            2   \n",
      "20  21   Feb-1-2013                             David            4   \n",
      "21  22   Mar-7-2014                       Gulaab Gang            4   \n",
      "22  23  Feb-14-2014                            Gunday            4   \n",
      "23  24   Oct-2-2014                            Haider            1   \n",
      "24  25  Nov-21-2014                      Happy Ending            4   \n",
      "25  26   Feb-8-2013                        Special 26            4   \n",
      "26  27  Oct-24-2014                    Happy New Year            3   \n",
      "27  28   Feb-8-2013         ABCD _ Any Body Can Dance            4   \n",
      "28  29  Jul-18-2014                      Hate Story 2            4   \n",
      "29  30   May-9-2014                      Hawaa Hawaai            2   \n",
      "30  31   Feb-7-2014                         Heartless            4   \n",
      "31  32  Feb-15-2013                          Murder 3            1   \n",
      "32  33  May-23-2014                         Heropanti            2   \n",
      "33  34  Feb-22-2013                       Kai Po Che!            4   \n",
      "34  35  Feb-21-2004                           Highway            4   \n",
      "35  36  Feb-22-2013                   Zilla Ghaziabad            4   \n",
      "36  37   Jun-6-2014                           Holiday            2   \n",
      "37  38  Jul-11-2014         Humpty Sharma Ki Dulhania            4   \n",
      "38  39   Mar-1-2013              The Attacks of 26/11            4   \n",
      "39  40  Jun-20-2014                        Humshakals            2   \n",
      "40  41   Mar-8-2013  Saheb, Biwi Aur Gangster Returns            1   \n",
      "41  42  Jan-24-2014                            Jai Ho            4   \n",
      "42  43  Sep-19-2014                        Khoobsurat            4   \n",
      "43  44  Jul-25-2014                              Kick            4   \n",
      "44  45  Mar-15-2013                                3G            4   \n",
      "45  46  Nov-14-2014                          Kill Dil            4   \n",
      "46  47  Mar-15-2013                Mere Dad Ki Maruti            4   \n",
      "47  48  Mar-15-2013                         Jolly LLB            4   \n",
      "48  49  May-09-2014                      Koyelaanchal            2   \n",
      "49  50   May-2-2014              Kya Dilli Kya Lahore            2   \n",
      "50  51   Jul-7-2014             Lekar Hum Deewana Dil            4   \n",
      "\n",
      "           Genre Budget BoxOfficeCollection  YoutubeViews  YoutubeLikes  \\\n",
      "0   RomanceGenre   36Cr                 104       8576361       26622.0   \n",
      "1      Thriller    Cr10                  12       1087320        1129.0   \n",
      "2    ComedyGenre   10Cr                   4        572336         586.0   \n",
      "3     DramaGenre    7Cr                 383         42626          86.0   \n",
      "4    ComedyGenre   18Cr                10.8       3113427        4512.0   \n",
      "5     DramaGenre    7Cr                  35       1076591        1806.0   \n",
      "6    ComedyGenre   30Cr                24.6       3905050        8315.0   \n",
      "7    ComedyGenre   33Cr                  40       2435283        4326.0   \n",
      "8    ComedyGenre   31Cr                  27       2333067        2436.0   \n",
      "9     DramaGenre    2Cr              Cr0.01          4354           1.0   \n",
      "10   ActionGenre   28Cr                   6       2397647        3308.0   \n",
      "11  RomanceGenre    5Cr               10.25       1077723         897.0   \n",
      "12  RomanceGenre   35Cr               105.5       4518748       13558.0   \n",
      "13       Action     4Cr                 1.8        235767         192.0   \n",
      "14   ComedyGenre   60Cr                 163       6336058       20472.0   \n",
      "15   ActionGenre    4Cr              Cr0.09         28391           8.0   \n",
      "16     Thriller    Cr60                 162       7641333       12617.0   \n",
      "17   ComedyGenre   10Cr                   6        989096        1608.0   \n",
      "18   ComedyGenre   15Cr                58.9       6144142       13013.0   \n",
      "19   ComedyGenre   10Cr                12.6       2343109        2963.0   \n",
      "20     Thriller    Cr10                3.65        839270        1542.0   \n",
      "21   ActionGenre   27Cr                14.3       4687259       13219.0   \n",
      "22   ActionGenre   50Cr                76.7       3503887        8383.0   \n",
      "23    DramaGenre   24Cr                  69       7048104       23590.0   \n",
      "24  RomanceGenre   48Cr                21.5       5192338        6928.0   \n",
      "25    DramaGenre   42Cr                 103       1829417        6248.0   \n",
      "26    DramaGenre  125Cr                 383       6395202       37585.0   \n",
      "27    DramaGenre   12Cr                  44       4042091       10609.0   \n",
      "28      Thriller   12Cr               27.16      13798789       15708.0   \n",
      "29    DramaGenre   11Cr                  10        764725        1377.0   \n",
      "30      Thriller   12Cr                 1.5       4823892        5797.0   \n",
      "31      Thriller   12Cr                  25       2249055        1879.0   \n",
      "32  RomanceGenre   21Cr                  65       4005695        8189.0   \n",
      "33    DramaGenre   30Cr                62.2       1888754        5686.0   \n",
      "34        Drama    30Cr               27.25       3043012        9100.0   \n",
      "35   ActionGenre   36Cr                  16       1551786        1753.0   \n",
      "36   ActionGenre   50Cr                 129       6841635       14182.0   \n",
      "37  RomanceGenre   20Cr                 130       6604595       14535.0   \n",
      "38      Thriller   Cr30                  32       1041892        1911.0   \n",
      "39   ComedyGenre   75Cr                63.7       6280868           NaN   \n",
      "40    DramaGenre   15Cr                  22       1176596        1037.0   \n",
      "41   ActionGenre  120Cr                 111        868743        2783.0   \n",
      "42  RomanceGenre   12Cr                39.4       5454349       12548.0   \n",
      "43   ActionGenre  100Cr                 377      18986221      101275.0   \n",
      "44      Thriller    Cr5                5.82       1200152        1385.0   \n",
      "45  RomanceGenre   35Cr                  36       2375050        4358.0   \n",
      "46   ComedyGenre    5Cr                  11        569711        1226.0   \n",
      "47   ComedyGenre   10Cr                32.7       1741424        3024.0   \n",
      "48   ActionGenre    8Cr                   2        591838         347.0   \n",
      "49    DramaGenre    7Cr               Cr0.5        492344        2018.0   \n",
      "50  RomanceGenre   16Cr                 2.5       3998331        2307.0   \n",
      "\n",
      "    YoutubeDislikes  YoutubeLikeDislikes  \n",
      "0            2527.0                29149  \n",
      "1             137.0                 1266  \n",
      "2              54.0                  640  \n",
      "3              19.0                  105  \n",
      "4            1224.0                 5736  \n",
      "5              84.0                 1890  \n",
      "6            1373.0                 9688  \n",
      "7             647.0                 4973  \n",
      "8             591.0                 3027  \n",
      "9               NaN                    2  \n",
      "10            465.0                 3773  \n",
      "11            114.0                 1011  \n",
      "12           1094.0                14652  \n",
      "13            164.0                  356  \n",
      "14           2843.0                23315  \n",
      "15             14.0                   22  \n",
      "16           2138.0                14755  \n",
      "17            173.0                 1781  \n",
      "18           2746.0                15759  \n",
      "19            556.0                 3519  \n",
      "20             95.0                 1637  \n",
      "21           1605.0                14824  \n",
      "22           1419.0                 9802  \n",
      "23           2443.0                26033  \n",
      "24           1120.0                 8048  \n",
      "25            568.0                 6816  \n",
      "26          10269.0                47854  \n",
      "27            788.0                11397  \n",
      "28           5226.0                20934  \n",
      "29             94.0                 1471  \n",
      "30            227.0                 6024  \n",
      "31              NaN                 2626  \n",
      "32           1814.0                10003  \n",
      "33            512.0                 6198  \n",
      "34            971.0                10071  \n",
      "35            619.0                 2372  \n",
      "36           1997.0                16179  \n",
      "37           2208.0                16743  \n",
      "38            344.0                 2255  \n",
      "39              1.0                    2  \n",
      "40            189.0                 1226  \n",
      "41            404.0                 3187  \n",
      "42           2038.0                14586  \n",
      "43          10066.0               111341  \n",
      "44            345.0                 1730  \n",
      "45            555.0                 4913  \n",
      "46              NaN                 1359  \n",
      "47            181.0                 3205  \n",
      "48             31.0                  378  \n",
      "49             64.0                 2082  \n",
      "50            497.0                 2804  \n"
     ]
    }
   ],
   "source": [
    "df = pd.read_csv('bollywood.csv')\n",
    "\n",
    "print(df)"
   ]
  },
  {
   "cell_type": "code",
   "execution_count": 37,
   "id": "a41b1d56",
   "metadata": {},
   "outputs": [
    {
     "data": {
      "text/plain": [
       "51"
      ]
     },
     "execution_count": 37,
     "metadata": {},
     "output_type": "execute_result"
    }
   ],
   "source": [
    "len(df)"
   ]
  },
  {
   "cell_type": "code",
   "execution_count": 38,
   "id": "d57ac963",
   "metadata": {},
   "outputs": [
    {
     "data": {
      "text/plain": [
       "Genre\n",
       "ComedyGenre     12\n",
       " DramaGenre     11\n",
       "ActionGenre      9\n",
       "RomanceGenre     9\n",
       "Thriller         5\n",
       "Thriller         3\n",
       " Drama           1\n",
       "Action           1\n",
       "Name: No, dtype: int64"
      ]
     },
     "execution_count": 38,
     "metadata": {},
     "output_type": "execute_result"
    }
   ],
   "source": [
    "df1 = df.groupby(['Genre']).count().sort_values('No',ascending = False)['No']\n",
    "df1"
   ]
  },
  {
   "cell_type": "code",
   "execution_count": 39,
   "id": "14f203f9",
   "metadata": {},
   "outputs": [
    {
     "data": {
      "text/plain": [
       "Genre\n",
       "ComedyGenre    12\n",
       "Name: No, dtype: int64"
      ]
     },
     "execution_count": 39,
     "metadata": {},
     "output_type": "execute_result"
    }
   ],
   "source": [
    "df1.head(1)"
   ]
  },
  {
   "cell_type": "code",
   "execution_count": 65,
   "id": "381c8c42",
   "metadata": {},
   "outputs": [
    {
     "name": "stdout",
     "output_type": "stream",
     "text": [
      "The month with the maximum number of movie releases is: 1\n"
     ]
    }
   ],
   "source": [
    "df['RelDate'] = pd.to_datetime(df['RelDate'],format='%b-%d-%Y')\n",
    "\n",
    "# Extract the month and create a new column 'month'\n",
    "df['Month'] = df['RelDate'].dt.month\n",
    "\n",
    "monthly_counts = df['Month'].value_counts()\n",
    "\n",
    "max_month = monthly_counts.idxmax()\n",
    "\n",
    "print(f\"The month with the maximum number of movie releases is: {max_month}\")\n"
   ]
  },
  {
   "cell_type": "code",
   "execution_count": 69,
   "id": "d52610f4",
   "metadata": {},
   "outputs": [
    {
     "name": "stdout",
     "output_type": "stream",
     "text": [
      "The month with the most releases of high-budget movies is: 1\n"
     ]
    }
   ],
   "source": [
    "df['RelDate'] = pd.to_datetime(df['RelDate'],format='%b-%d-%Y')\n",
    "\n",
    "# Extract the month and create a new column 'month'\n",
    "df['Month'] = df['RelDate'].dt.month\n",
    "\n",
    "df['Budget'] = df['Budget'].replace('Cr', '', regex=True).astype(float)\n",
    "\n",
    "# Filter movies with budget 25 crores or more\n",
    "high_budget_movies = df[df['Budget'] >= 25]\n",
    "\n",
    "# Count the number of high-budget movie releases for each month\n",
    "monthly_counts = high_budget_movies['Month'].value_counts()\n",
    "\n",
    "#Identify the month with the maximum number of high-budget movie releases\n",
    "max_month = monthly_counts.idxmax()\n",
    "\n",
    "print(f\"The month with the most releases of high-budget movies is: {max_month}\")"
   ]
  },
  {
   "cell_type": "code",
   "execution_count": 71,
   "id": "689c3b04",
   "metadata": {},
   "outputs": [
    {
     "data": {
      "text/html": [
       "<div>\n",
       "<style scoped>\n",
       "    .dataframe tbody tr th:only-of-type {\n",
       "        vertical-align: middle;\n",
       "    }\n",
       "\n",
       "    .dataframe tbody tr th {\n",
       "        vertical-align: top;\n",
       "    }\n",
       "\n",
       "    .dataframe thead th {\n",
       "        text-align: right;\n",
       "    }\n",
       "</style>\n",
       "<table border=\"1\" class=\"dataframe\">\n",
       "  <thead>\n",
       "    <tr style=\"text-align: right;\">\n",
       "      <th></th>\n",
       "      <th>No</th>\n",
       "      <th>RelDate</th>\n",
       "      <th>MovieName</th>\n",
       "      <th>ReleaseTime</th>\n",
       "      <th>Genre</th>\n",
       "      <th>Budget</th>\n",
       "      <th>BoxOfficeCollection</th>\n",
       "      <th>YoutubeViews</th>\n",
       "      <th>YoutubeLikes</th>\n",
       "      <th>YoutubeDislikes</th>\n",
       "      <th>YoutubeLikeDislikes</th>\n",
       "      <th>Month</th>\n",
       "      <th>ROI</th>\n",
       "    </tr>\n",
       "  </thead>\n",
       "  <tbody>\n",
       "    <tr>\n",
       "      <th>3</th>\n",
       "      <td>4</td>\n",
       "      <td>2013-01-04</td>\n",
       "      <td>Rajdhani Express</td>\n",
       "      <td>4</td>\n",
       "      <td>DramaGenre</td>\n",
       "      <td>7.0</td>\n",
       "      <td>383.0</td>\n",
       "      <td>42626</td>\n",
       "      <td>86.0</td>\n",
       "      <td>19.0</td>\n",
       "      <td>105</td>\n",
       "      <td>1</td>\n",
       "      <td>53.714286</td>\n",
       "    </tr>\n",
       "    <tr>\n",
       "      <th>37</th>\n",
       "      <td>38</td>\n",
       "      <td>2014-07-11</td>\n",
       "      <td>Humpty Sharma Ki Dulhania</td>\n",
       "      <td>4</td>\n",
       "      <td>RomanceGenre</td>\n",
       "      <td>20.0</td>\n",
       "      <td>130.0</td>\n",
       "      <td>6604595</td>\n",
       "      <td>14535.0</td>\n",
       "      <td>2208.0</td>\n",
       "      <td>16743</td>\n",
       "      <td>7</td>\n",
       "      <td>5.500000</td>\n",
       "    </tr>\n",
       "    <tr>\n",
       "      <th>5</th>\n",
       "      <td>6</td>\n",
       "      <td>2014-05-30</td>\n",
       "      <td>Citylights</td>\n",
       "      <td>2</td>\n",
       "      <td>DramaGenre</td>\n",
       "      <td>7.0</td>\n",
       "      <td>35.0</td>\n",
       "      <td>1076591</td>\n",
       "      <td>1806.0</td>\n",
       "      <td>84.0</td>\n",
       "      <td>1890</td>\n",
       "      <td>5</td>\n",
       "      <td>4.000000</td>\n",
       "    </tr>\n",
       "    <tr>\n",
       "      <th>18</th>\n",
       "      <td>19</td>\n",
       "      <td>2014-09-12</td>\n",
       "      <td>Finding Fanny</td>\n",
       "      <td>4</td>\n",
       "      <td>ComedyGenre</td>\n",
       "      <td>15.0</td>\n",
       "      <td>58.9</td>\n",
       "      <td>6144142</td>\n",
       "      <td>13013.0</td>\n",
       "      <td>2746.0</td>\n",
       "      <td>15759</td>\n",
       "      <td>9</td>\n",
       "      <td>2.926667</td>\n",
       "    </tr>\n",
       "    <tr>\n",
       "      <th>43</th>\n",
       "      <td>44</td>\n",
       "      <td>2014-07-25</td>\n",
       "      <td>Kick</td>\n",
       "      <td>4</td>\n",
       "      <td>ActionGenre</td>\n",
       "      <td>100.0</td>\n",
       "      <td>377.0</td>\n",
       "      <td>18986221</td>\n",
       "      <td>101275.0</td>\n",
       "      <td>10066.0</td>\n",
       "      <td>111341</td>\n",
       "      <td>7</td>\n",
       "      <td>2.770000</td>\n",
       "    </tr>\n",
       "    <tr>\n",
       "      <th>27</th>\n",
       "      <td>28</td>\n",
       "      <td>2013-02-08</td>\n",
       "      <td>ABCD _ Any Body Can Dance</td>\n",
       "      <td>4</td>\n",
       "      <td>DramaGenre</td>\n",
       "      <td>12.0</td>\n",
       "      <td>44.0</td>\n",
       "      <td>4042091</td>\n",
       "      <td>10609.0</td>\n",
       "      <td>788.0</td>\n",
       "      <td>11397</td>\n",
       "      <td>2</td>\n",
       "      <td>2.666667</td>\n",
       "    </tr>\n",
       "    <tr>\n",
       "      <th>42</th>\n",
       "      <td>43</td>\n",
       "      <td>2014-09-19</td>\n",
       "      <td>Khoobsurat</td>\n",
       "      <td>4</td>\n",
       "      <td>RomanceGenre</td>\n",
       "      <td>12.0</td>\n",
       "      <td>39.4</td>\n",
       "      <td>5454349</td>\n",
       "      <td>12548.0</td>\n",
       "      <td>2038.0</td>\n",
       "      <td>14586</td>\n",
       "      <td>9</td>\n",
       "      <td>2.283333</td>\n",
       "    </tr>\n",
       "    <tr>\n",
       "      <th>47</th>\n",
       "      <td>48</td>\n",
       "      <td>2013-03-15</td>\n",
       "      <td>Jolly LLB</td>\n",
       "      <td>4</td>\n",
       "      <td>ComedyGenre</td>\n",
       "      <td>10.0</td>\n",
       "      <td>32.7</td>\n",
       "      <td>1741424</td>\n",
       "      <td>3024.0</td>\n",
       "      <td>181.0</td>\n",
       "      <td>3205</td>\n",
       "      <td>3</td>\n",
       "      <td>2.270000</td>\n",
       "    </tr>\n",
       "    <tr>\n",
       "      <th>32</th>\n",
       "      <td>33</td>\n",
       "      <td>2014-05-23</td>\n",
       "      <td>Heropanti</td>\n",
       "      <td>2</td>\n",
       "      <td>RomanceGenre</td>\n",
       "      <td>21.0</td>\n",
       "      <td>65.0</td>\n",
       "      <td>4005695</td>\n",
       "      <td>8189.0</td>\n",
       "      <td>1814.0</td>\n",
       "      <td>10003</td>\n",
       "      <td>5</td>\n",
       "      <td>2.095238</td>\n",
       "    </tr>\n",
       "    <tr>\n",
       "      <th>26</th>\n",
       "      <td>27</td>\n",
       "      <td>2014-10-24</td>\n",
       "      <td>Happy New Year</td>\n",
       "      <td>3</td>\n",
       "      <td>DramaGenre</td>\n",
       "      <td>125.0</td>\n",
       "      <td>383.0</td>\n",
       "      <td>6395202</td>\n",
       "      <td>37585.0</td>\n",
       "      <td>10269.0</td>\n",
       "      <td>47854</td>\n",
       "      <td>10</td>\n",
       "      <td>2.064000</td>\n",
       "    </tr>\n",
       "  </tbody>\n",
       "</table>\n",
       "</div>"
      ],
      "text/plain": [
       "    No    RelDate                  MovieName  ReleaseTime         Genre  \\\n",
       "3    4 2013-01-04           Rajdhani Express            4    DramaGenre   \n",
       "37  38 2014-07-11  Humpty Sharma Ki Dulhania            4  RomanceGenre   \n",
       "5    6 2014-05-30                 Citylights            2    DramaGenre   \n",
       "18  19 2014-09-12              Finding Fanny            4   ComedyGenre   \n",
       "43  44 2014-07-25                       Kick            4   ActionGenre   \n",
       "27  28 2013-02-08  ABCD _ Any Body Can Dance            4    DramaGenre   \n",
       "42  43 2014-09-19                 Khoobsurat            4  RomanceGenre   \n",
       "47  48 2013-03-15                  Jolly LLB            4   ComedyGenre   \n",
       "32  33 2014-05-23                  Heropanti            2  RomanceGenre   \n",
       "26  27 2014-10-24             Happy New Year            3    DramaGenre   \n",
       "\n",
       "    Budget  BoxOfficeCollection  YoutubeViews  YoutubeLikes  YoutubeDislikes  \\\n",
       "3      7.0                383.0         42626          86.0             19.0   \n",
       "37    20.0                130.0       6604595       14535.0           2208.0   \n",
       "5      7.0                 35.0       1076591        1806.0             84.0   \n",
       "18    15.0                 58.9       6144142       13013.0           2746.0   \n",
       "43   100.0                377.0      18986221      101275.0          10066.0   \n",
       "27    12.0                 44.0       4042091       10609.0            788.0   \n",
       "42    12.0                 39.4       5454349       12548.0           2038.0   \n",
       "47    10.0                 32.7       1741424        3024.0            181.0   \n",
       "32    21.0                 65.0       4005695        8189.0           1814.0   \n",
       "26   125.0                383.0       6395202       37585.0          10269.0   \n",
       "\n",
       "    YoutubeLikeDislikes  Month        ROI  \n",
       "3                   105      1  53.714286  \n",
       "37                16743      7   5.500000  \n",
       "5                  1890      5   4.000000  \n",
       "18                15759      9   2.926667  \n",
       "43               111341      7   2.770000  \n",
       "27                11397      2   2.666667  \n",
       "42                14586      9   2.283333  \n",
       "47                 3205      3   2.270000  \n",
       "32                10003      5   2.095238  \n",
       "26                47854     10   2.064000  "
      ]
     },
     "execution_count": 71,
     "metadata": {},
     "output_type": "execute_result"
    }
   ],
   "source": [
    "df['Budget'] = df['Budget'].replace('Cr', '', regex=True).astype(float)\n",
    "df['BoxOfficeCollection'] = df['BoxOfficeCollection'].replace('Cr', '', regex=True).astype(float)\n",
    "df['ROI'] = (df['BoxOfficeCollection'] - df['Budget'])/df['Budget']\n",
    "(df.sort_values('ROI', ascending = False)).head(10)"
   ]
  },
  {
   "cell_type": "code",
   "execution_count": 74,
   "id": "0dd3f311",
   "metadata": {},
   "outputs": [
    {
     "name": "stderr",
     "output_type": "stream",
     "text": [
      "C:\\Users\\apurv\\AppData\\Local\\Temp\\ipykernel_8004\\3551757473.py:1: FutureWarning: The default value of numeric_only in DataFrameGroupBy.mean is deprecated. In a future version, numeric_only will default to False. Either specify numeric_only or select only columns which should be valid for the function.\n",
      "  df.groupby(['ReleaseTime']).mean()['ROI']\n"
     ]
    },
    {
     "data": {
      "text/plain": [
       "ReleaseTime\n",
       "1     1.141667\n",
       "2     0.762938\n",
       "3     1.380964\n",
       "4     2.209254\n",
       "44   -0.400000\n",
       "Name: ROI, dtype: float64"
      ]
     },
     "execution_count": 74,
     "metadata": {},
     "output_type": "execute_result"
    }
   ],
   "source": [
    "df.groupby(['ReleaseTime']).mean()['ROI']"
   ]
  },
  {
   "cell_type": "code",
   "execution_count": 80,
   "id": "fa57d214",
   "metadata": {},
   "outputs": [
    {
     "name": "stdout",
     "output_type": "stream",
     "text": [
      "0.6734293516390922\n",
      "Correlation is positive\n"
     ]
    }
   ],
   "source": [
    "correlation = df['BoxOfficeCollection'].corr(df['YoutubeLikes'])\n",
    "\n",
    "print(correlation)\n",
    "if correlation > 0:\n",
    "    print(\"Correlation is positive\")\n",
    "else:\n",
    "    print(\"Correlation is negative\")"
   ]
  },
  {
   "cell_type": "code",
   "execution_count": 88,
   "id": "d76af974",
   "metadata": {},
   "outputs": [
    {
     "data": {
      "image/png": "[encoded data removed]",
      "text/plain": [
       "<Figure size 640x480 with 1 Axes>"
      ]
     },
     "metadata": {},
     "output_type": "display_data"
    }
   ],
   "source": [
    "# Create boxplots to compare YouTube likes for each genre\n",
    "sns.boxplot(x=df['Genre'], y=df['YoutubeLikes'])\n",
    "plt.xticks(rotation=45, ha='right')\n",
    "plt.title('Comparison of YouTube Likes for Different Movie Genres')\n",
    "plt.xlabel('Genre')\n",
    "plt.ylabel('YouTube Likes')\n",
    "plt.show()\n",
    "\n",
    "#from boxplot it is clear that romance genre sees more youtube likes"
   ]
  },
  {
   "cell_type": "code",
   "execution_count": 90,
   "id": "226b290d",
   "metadata": {},
   "outputs": [
    {
     "data": {
      "image/png": "[encoded data removed]",
      "text/plain": [
       "<Figure size 640x480 with 2 Axes>"
      ]
     },
     "metadata": {},
     "output_type": "display_data"
    }
   ],
   "source": [
    "selected_columns = ['Budget', 'BoxOfficeCollection', 'YoutubeViews', 'YoutubeLikes', 'YoutubeDislikes']\n",
    "movies_subset = df[selected_columns]\n",
    "\n",
    "# Calculate the correlation matrix\n",
    "correlation_matrix = movies_subset.corr()\n",
    "\n",
    "# Create a heatmap\n",
    "sns.heatmap(correlation_matrix, annot=True, cmap='coolwarm', fmt='.2f', linewidths=0.5)\n",
    "plt.title('Correlation Heatmap')\n",
    "plt.show()\n",
    "\n",
    "#from the heatmap it is clear that YoutubeLikes and YoutubeDislikes, and YoutubeViews and YoutubeLikes are highly correlated \n",
    "#with correlation values 0.87 and 0.85 respectively"
   ]
  },
  {
   "cell_type": "code",
   "execution_count": null,
   "id": "46060b06",
   "metadata": {},
   "outputs": [],
   "source": []
  }
 ],
 "metadata": {
  "kernelspec": {
   "display_name": "Python 3 (ipykernel)",
   "language": "python",
   "name": "python3"
  },
  "language_info": {
   "codemirror_mode": {
    "name": "ipython",
    "version": 3
   },
   "file_extension": ".py",
   "mimetype": "text/x-python",
   "name": "python",
   "nbconvert_exporter": "python",
   "pygments_lexer": "ipython3",
   "version": "3.11.3"
  }
 },
 "nbformat": 4,
 "nbformat_minor": 5
}
